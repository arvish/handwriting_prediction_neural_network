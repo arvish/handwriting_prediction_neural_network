{
 "cells": [
  {
   "cell_type": "markdown",
   "id": "9bc5a3ac-114e-473b-bd24-0d4674f63993",
   "metadata": {},
   "source": [
    "<h1><strong>Deep Learning Project 2</strong></h1>\n",
    "<h2><strong>Convolutional Neural Network</strong></h2>"
   ]
  },
  {
   "cell_type": "markdown",
   "id": "d65438c2-bfba-4214-8299-b988a32c929f",
   "metadata": {},
   "source": [
    "<h3>Name: Arvish Pandey (Undergrad)</h3>"
   ]
  },
  {
   "cell_type": "markdown",
   "id": "bf5867b8-d206-4745-be2c-d1e97dd831d0",
   "metadata": {},
   "source": [
    "<h5>Description:</h5>\n",
    "<p>\n",
    "    In this project I will practice how to write Convolutional Neural Network (CNN) in\n",
    "Python with TensorFlow or PyTorch. I need to demonstrate how CNN works in order to\n",
    "implement this project successfully. The goals of this project are:\n",
    "    <li>to understand the steps to train/test the classifier for image classification.</li>\n",
    "    <li>understand architecture of CNN and how to connect each layer together by using \n",
    "TensorFlow or PyTorch.</li>\n",
    "</p>"
   ]
  },
  {
   "cell_type": "code",
   "execution_count": 33,
   "id": "7647dfdb-e39b-48d2-a905-a6627add1f2b",
   "metadata": {},
   "outputs": [],
   "source": [
    "import torch\n",
    "import torch.nn as nn\n",
    "import torch.optim as optim\n",
    "import torchvision\n",
    "import torchvision.transforms as transforms\n",
    "import torchvision.models as models\n",
    "from sklearn.metrics import f1_score, roc_auc_score, accuracy_score, roc_curve, auc"
   ]
  },
  {
   "cell_type": "code",
   "execution_count": 29,
   "id": "a6485ea1-0e6b-4ffd-a001-28ff8f0c8ee9",
   "metadata": {},
   "outputs": [],
   "source": [
    "import matplotlib.pyplot as plt\n",
    "import numpy as np"
   ]
  },
  {
   "cell_type": "code",
   "execution_count": 17,
   "id": "837fb0a9-09b2-4bac-9331-ebb83ebdb9d4",
   "metadata": {},
   "outputs": [],
   "source": [
    "# Define the DNN architecture\n",
    "class DNN(nn.Module):\n",
    "    def __init__(self):\n",
    "        super(DNN, self).__init__()\n",
    "        self.fc1 = nn.Linear(28 * 28, 512)  # Input layer (flattened 28x28 images)\n",
    "        self.fc2 = nn.Linear(512, 256)      # Hidden layer\n",
    "        self.fc3 = nn.Linear(256, 10)       # Output layer (10 classes for digits 0-9)\n",
    "    \n",
    "    def forward(self, x):\n",
    "        x = x.view(-1, 28 * 28)            # Flatten the input\n",
    "        x = torch.relu(self.fc1(x))        # First layer with ReLU activation\n",
    "        x = torch.relu(self.fc2(x))        # Hidden layer with ReLU activation\n",
    "        x = self.fc3(x)                    # Output layer\n",
    "        return x"
   ]
  },
  {
   "cell_type": "code",
   "execution_count": 2,
   "id": "b56fe85b-68a9-4dd2-87c1-36975ebd5e5d",
   "metadata": {},
   "outputs": [],
   "source": [
    "# Define the ConvNet architecture\n",
    "class ConvNet(nn.Module):\n",
    "    def __init__(self):\n",
    "        super(ConvNet, self).__init__()\n",
    "        # First convolutional layer followed by pooling\n",
    "        self.conv1 = nn.Conv2d(1, 32, kernel_size=3, stride=1, padding=1)\n",
    "        self.pool = nn.MaxPool2d(kernel_size=2, stride=2, padding=0)\n",
    "        # Second convolutional layer followed by pooling\n",
    "        self.conv2 = nn.Conv2d(32, 64, kernel_size=3, stride=1, padding=1)\n",
    "        # Fully connected layers\n",
    "        self.fc1 = nn.Linear(64 * 7 * 7, 128)\n",
    "        self.fc2 = nn.Linear(128, 10)\n",
    "    \n",
    "    def forward(self, x):\n",
    "        # Apply first convolutional layer, ReLU activation, and pooling\n",
    "        x = self.pool(nn.functional.relu(self.conv1(x)))\n",
    "        # Apply second convolutional layer, ReLU activation, and pooling\n",
    "        x = self.pool(nn.functional.relu(self.conv2(x)))\n",
    "        # Flatten the tensor for fully connected layers\n",
    "        x = x.view(-1, 64 * 7 * 7)\n",
    "        # Apply first fully connected layer and ReLU activation\n",
    "        x = nn.functional.relu(self.fc1(x))\n",
    "        # Output layer\n",
    "        x = self.fc2(x)\n",
    "        return x"
   ]
  },
  {
   "cell_type": "markdown",
   "id": "2a62c49f-fb59-4169-832e-028cf1282815",
   "metadata": {},
   "source": [
    "<h4>Load & Preprocess Data</h4>"
   ]
  },
  {
   "cell_type": "code",
   "execution_count": 3,
   "id": "0c047f9d-5378-44fc-85a6-f352aa87837a",
   "metadata": {},
   "outputs": [],
   "source": [
    "# Load and preprocess the dataset\n",
    "transform = transforms.Compose([transforms.ToTensor(), transforms.Normalize((0.5,), (0.5,))])\n",
    "train_dataset = torchvision.datasets.MNIST(root='./data', train=True, download=True, transform=transform)\n",
    "test_dataset = torchvision.datasets.MNIST(root='./data', train=False, download=True, transform=transform)"
   ]
  },
  {
   "cell_type": "markdown",
   "id": "fe80c5d3-2880-4598-8935-cde95050e988",
   "metadata": {},
   "source": [
    "<h4><strong>Step 1: Data Questions</h4>"
   ]
  },
  {
   "cell_type": "markdown",
   "id": "7008ef65-4a75-4df8-bc97-57fcb7a6ece6",
   "metadata": {},
   "source": [
    "<h5>How many data samples are included in the dataset? </h5>"
   ]
  },
  {
   "cell_type": "code",
   "execution_count": 4,
   "id": "52739451-96e5-4ea7-a3de-91e5fc98c6b0",
   "metadata": {},
   "outputs": [
    {
     "name": "stdout",
     "output_type": "stream",
     "text": [
      "Number of training samples: 60000\n",
      "Number of test samples: 10000\n",
      "Number of total samples: 70000\n"
     ]
    }
   ],
   "source": [
    "num_train_samples = len(train_dataset)\n",
    "num_test_samples = len(test_dataset)\n",
    "print(f'Number of training samples: {num_train_samples}')\n",
    "print(f'Number of test samples: {num_test_samples}')\n",
    "print(f'Number of total samples: {num_train_samples + num_test_samples}')"
   ]
  },
  {
   "cell_type": "markdown",
   "id": "9f61f8b7-7897-4f45-aa58-0c170f1447be",
   "metadata": {},
   "source": [
    "<h5>Which problem will this dataset try to address?</h5>"
   ]
  },
  {
   "cell_type": "markdown",
   "id": "c3e752e4-f778-472b-af2f-e90c546e4467",
   "metadata": {},
   "source": [
    "Problem: Image classification of handwritten digits (0-9)."
   ]
  },
  {
   "cell_type": "markdown",
   "id": "625eaf2b-6c63-4d6e-bc48-9f3a642d55d1",
   "metadata": {},
   "source": [
    "<h5>What is the minimum value and\r\n",
    "the maximum value in the dataset? </h5>"
   ]
  },
  {
   "cell_type": "code",
   "execution_count": 5,
   "id": "71bd4470-44a6-45e4-a332-a2b20ae4b57d",
   "metadata": {},
   "outputs": [
    {
     "name": "stdout",
     "output_type": "stream",
     "text": [
      "Minimum pixel value: 0\n",
      "Maximum pixel value: 255\n"
     ]
    }
   ],
   "source": [
    "min_value = train_dataset.data.min().item()\n",
    "max_value = train_dataset.data.max().item()\n",
    "print(f'Minimum pixel value: {min_value}')\n",
    "print(f'Maximum pixel value: {max_value}')"
   ]
  },
  {
   "cell_type": "markdown",
   "id": "defb60d7-64af-46cf-8d11-52228b68b542",
   "metadata": {},
   "source": [
    "<h5>What is the dimension of each data sample? </h5>"
   ]
  },
  {
   "cell_type": "code",
   "execution_count": 6,
   "id": "476b03d5-cd3c-4cbe-8a16-b239dfed137c",
   "metadata": {},
   "outputs": [
    {
     "name": "stdout",
     "output_type": "stream",
     "text": [
      "Dimension of each data sample: torch.Size([28, 28])\n"
     ]
    }
   ],
   "source": [
    "sample_shape = train_dataset.data[0].shape\n",
    "print(f'Dimension of each data sample: {sample_shape}')"
   ]
  },
  {
   "cell_type": "markdown",
   "id": "65df3e0b-5eed-4113-a481-bf8f24440e01",
   "metadata": {},
   "source": [
    "<h5>Does\r\n",
    "the dataset have any missing information? E.g., missing features.</h5>"
   ]
  },
  {
   "cell_type": "markdown",
   "id": "e4a69079-e596-4711-a122-cf879f913af0",
   "metadata": {},
   "source": [
    "Missing information: MNIST dataset does not contain missing values."
   ]
  },
  {
   "cell_type": "markdown",
   "id": "7c64b24e-67c2-415d-8b76-7c47526d7787",
   "metadata": {},
   "source": [
    "<h5>What is the label of this\r\n",
    "dataset?</h5>"
   ]
  },
  {
   "cell_type": "code",
   "execution_count": 7,
   "id": "ebca08be-253a-4a6d-8808-ca3bcbbb49ba",
   "metadata": {},
   "outputs": [
    {
     "name": "stdout",
     "output_type": "stream",
     "text": [
      "Labels in the dataset represent digits from 0 to 9, where each label corresponds to the digit shown in the image.\n",
      "Unique labels in the dataset: [0, 1, 2, 3, 4, 5, 6, 7, 8, 9]\n"
     ]
    }
   ],
   "source": [
    "print('Labels in the dataset represent digits from 0 to 9, where each label corresponds to the digit shown in the image.')\n",
    "unique_labels = train_dataset.targets.unique().tolist()\n",
    "print(f'Unique labels in the dataset: {unique_labels}')"
   ]
  },
  {
   "cell_type": "markdown",
   "id": "50094e8c-cb7b-4a6d-bb33-ce82cc437639",
   "metadata": {},
   "source": [
    "<h5>How many percent of data will you use for training, validation and testing?</h5>"
   ]
  },
  {
   "cell_type": "code",
   "execution_count": 8,
   "id": "388390c8-9d23-4a0c-b675-7d54ce188874",
   "metadata": {},
   "outputs": [
    {
     "name": "stdout",
     "output_type": "stream",
     "text": [
      "Percentage split - Training: 80%, Validation: 10%, Testing: 10%\n"
     ]
    }
   ],
   "source": [
    "train_percentage = 80\n",
    "validation_percentage = 10\n",
    "test_percentage = 10\n",
    "print(f'Percentage split - Training: {train_percentage}%, Validation: {validation_percentage}%, Testing: {test_percentage}%')"
   ]
  },
  {
   "cell_type": "markdown",
   "id": "4907173b-59fa-4999-83b8-dde6faa13a9f",
   "metadata": {},
   "source": [
    "<h5>What kind of data pre-processing will you use for your training dataset?</h5>"
   ]
  },
  {
   "cell_type": "markdown",
   "id": "124eeecd-7c16-4c28-8a9d-29d85b77ff21",
   "metadata": {},
   "source": [
    "Data preprocessing: Normalization to range [-1, 1] and conversion to tensor."
   ]
  },
  {
   "cell_type": "markdown",
   "id": "408167e7-4a20-415b-9fef-abaa5a162c19",
   "metadata": {},
   "source": [
    "<h4>Postprocess Data & Model</h4>"
   ]
  },
  {
   "cell_type": "code",
   "execution_count": 9,
   "id": "915b5914-9d25-40bd-9ded-e6277077cbe5",
   "metadata": {},
   "outputs": [],
   "source": [
    "# Create data loaders for training and testing\n",
    "train_loader = torch.utils.data.DataLoader(dataset=train_dataset, batch_size=64, shuffle=True)\n",
    "test_loader = torch.utils.data.DataLoader(dataset=test_dataset, batch_size=64, shuffle=False)"
   ]
  },
  {
   "cell_type": "code",
   "execution_count": 18,
   "id": "c05fe625-5f4c-440b-8e5a-13c118c7237c",
   "metadata": {},
   "outputs": [],
   "source": [
    "# Set up the device, model, loss function, and optimizer\n",
    "device = torch.device('cuda' if torch.cuda.is_available() else 'cpu')"
   ]
  },
  {
   "cell_type": "code",
   "execution_count": 19,
   "id": "63d823c8-bb2c-4571-9e43-a29a6c987b67",
   "metadata": {},
   "outputs": [
    {
     "name": "stdout",
     "output_type": "stream",
     "text": [
      "True\n",
      "NVIDIA GeForce RTX 3060 Laptop GPU\n"
     ]
    }
   ],
   "source": [
    "print(torch.cuda.is_available())  # Should return True if CUDA is available\n",
    "print(torch.cuda.get_device_name(0))  # Should print 'NVIDIA RTX 3060' or similar"
   ]
  },
  {
   "cell_type": "code",
   "execution_count": 30,
   "id": "c2ea3bfb-276d-453a-accd-3a95d874d10c",
   "metadata": {},
   "outputs": [],
   "source": [
    "# Function to train a model\n",
    "def train_model(model, train_loader, num_epochs=10, learning_rate=0.001):\n",
    "    model = model.to(device)\n",
    "    criterion = nn.CrossEntropyLoss()\n",
    "    optimizer = optim.Adam(model.parameters(), lr=learning_rate)\n",
    "    \n",
    "    for epoch in range(num_epochs):\n",
    "        model.train()\n",
    "        running_loss = 0.0\n",
    "        for images, labels in train_loader:\n",
    "            images, labels = images.to(device), labels.to(device)\n",
    "            optimizer.zero_grad()\n",
    "            outputs = model(images)\n",
    "            loss = criterion(outputs, labels)\n",
    "            loss.backward()\n",
    "            optimizer.step()\n",
    "            running_loss += loss.item()\n",
    "        print(f'Epoch [{epoch+1}/{num_epochs}], Loss: {running_loss/len(train_loader)}')\n",
    "    return model"
   ]
  },
  {
   "cell_type": "code",
   "execution_count": 22,
   "id": "c2317a78-359e-4714-8ea0-f31cd3c35af5",
   "metadata": {},
   "outputs": [
    {
     "name": "stdout",
     "output_type": "stream",
     "text": [
      "Epoch [1/20], Loss: 0.2968737073163234\n",
      "Epoch [2/20], Loss: 0.13580474669912032\n",
      "Epoch [3/20], Loss: 0.1019507540352166\n",
      "Epoch [4/20], Loss: 0.08252846861311765\n",
      "Epoch [5/20], Loss: 0.06713895376762753\n",
      "Epoch [6/20], Loss: 0.06048156654445836\n",
      "Epoch [7/20], Loss: 0.05326613417376321\n",
      "Epoch [8/20], Loss: 0.0467334562424334\n",
      "Epoch [9/20], Loss: 0.04308392223529716\n",
      "Epoch [10/20], Loss: 0.0358344638342984\n",
      "Epoch [11/20], Loss: 0.03700686860424372\n",
      "Epoch [12/20], Loss: 0.031276841704656846\n",
      "Epoch [13/20], Loss: 0.031133258645095415\n",
      "Epoch [14/20], Loss: 0.02927124667965895\n",
      "Epoch [15/20], Loss: 0.02629065110886198\n",
      "Epoch [16/20], Loss: 0.02788198230855162\n",
      "Epoch [17/20], Loss: 0.021759309934006488\n",
      "Epoch [18/20], Loss: 0.026034018054068932\n",
      "Epoch [19/20], Loss: 0.021811831774586243\n",
      "Epoch [20/20], Loss: 0.022623146985952462\n",
      "Epoch [1/10], Loss: 0.15664212408809186\n",
      "Epoch [2/10], Loss: 0.04390041380232053\n",
      "Epoch [3/10], Loss: 0.029496674119580617\n",
      "Epoch [4/10], Loss: 0.022235759766089783\n",
      "Epoch [5/10], Loss: 0.017389045709549304\n",
      "Epoch [6/10], Loss: 0.01469702344136144\n",
      "Epoch [7/10], Loss: 0.011093582496345613\n",
      "Epoch [8/10], Loss: 0.009121022204053801\n",
      "Epoch [9/10], Loss: 0.009286207145095992\n",
      "Epoch [10/10], Loss: 0.00864221565113934\n"
     ]
    }
   ],
   "source": [
    "# Train and evaluate DNN model\n",
    "dnn_model = DNN()\n",
    "trained_dnn = train_model(dnn_model, train_loader, num_epochs=20, learning_rate=0.001)\n",
    "\n",
    "# Train and evaluate ConvNet model\n",
    "convnet_model = ConvNet()\n",
    "trained_convnet = train_model(convnet_model, train_loader, num_epochs=10, learning_rate=0.001)"
   ]
  },
  {
   "cell_type": "code",
   "execution_count": 23,
   "id": "e67b7f35-ffe0-45f8-881d-a0d20d995538",
   "metadata": {},
   "outputs": [
    {
     "name": "stdout",
     "output_type": "stream",
     "text": [
      "Epoch [1/15], Loss: 0.17847133737587645\n",
      "Epoch [2/15], Loss: 0.07092087232368266\n",
      "Epoch [3/15], Loss: 0.05632059720238355\n",
      "Epoch [4/15], Loss: 0.0543195914215796\n",
      "Epoch [5/15], Loss: 0.04279109631984759\n",
      "Epoch [6/15], Loss: 0.04087913191716831\n",
      "Epoch [7/15], Loss: 0.03412449176464425\n",
      "Epoch [8/15], Loss: 0.034068523360458985\n",
      "Epoch [9/15], Loss: 0.028588000993708337\n",
      "Epoch [10/15], Loss: 0.03327912555560925\n",
      "Epoch [11/15], Loss: 0.022312832811332832\n",
      "Epoch [12/15], Loss: 0.021434069393124908\n",
      "Epoch [13/15], Loss: 0.020640840210783634\n",
      "Epoch [14/15], Loss: 0.0181070384829186\n",
      "Epoch [15/15], Loss: 0.015790892084854687\n"
     ]
    }
   ],
   "source": [
    "# Use a pre-trained ResNet18 model and modify it for single-channel input\n",
    "resnet_model = models.resnet18(pretrained=False)\n",
    "resnet_model.conv1 = nn.Conv2d(1, 64, kernel_size=7, stride=2, padding=3, bias=False)  # Modify input channels to 1\n",
    "resnet_model.fc = nn.Linear(resnet_model.fc.in_features, 10)  # Modify the output layer to match 10 classes for MNIST\n",
    "trained_resnet = train_model(resnet_model, train_loader, num_epochs=15, learning_rate=0.01)"
   ]
  },
  {
   "cell_type": "code",
   "execution_count": 65,
   "id": "5750bd27-7b8c-477b-88aa-4067b9f2b05a",
   "metadata": {},
   "outputs": [
    {
     "name": "stdout",
     "output_type": "stream",
     "text": [
      "\n",
      "Evaluating DNN Model:\n",
      "Accuracy: 97.71%\n",
      "F1 Score: 0.98\n",
      "AUC Score: 1.00\n",
      "\n",
      "Evaluating ConvNet Model:\n",
      "Accuracy: 98.96%\n",
      "F1 Score: 0.99\n",
      "AUC Score: 1.00\n",
      "\n",
      "Evaluating ResNet Model:\n",
      "Accuracy: 99.16%\n",
      "F1 Score: 0.99\n",
      "AUC Score: 1.00\n"
     ]
    }
   ],
   "source": [
    "# Function to evaluate a model\n",
    "def evaluate_model(model, test_loader):\n",
    "    model = model.to(device)\n",
    "    model.eval()\n",
    "    y_true = []\n",
    "    y_pred = []\n",
    "    y_score = []\n",
    "    with torch.no_grad():\n",
    "        for images, labels in test_loader:\n",
    "            images, labels = images.to(device), labels.to(device)\n",
    "            outputs = model(images)\n",
    "            probs = nn.functional.softmax(outputs, dim=1)\n",
    "            _, predicted = torch.max(outputs, 1)\n",
    "            y_true.extend(labels.cpu().numpy())\n",
    "            y_pred.extend(predicted.cpu().numpy())\n",
    "            y_score.extend(probs.cpu().numpy())\n",
    "    accuracy = accuracy_score(y_true, y_pred)\n",
    "    f1 = f1_score(y_true, y_pred, average='weighted')\n",
    "    auc_score = roc_auc_score(y_true, y_score, multi_class='ovr')\n",
    "    print(f'Accuracy: {accuracy * 100:.2f}%')\n",
    "    print(f'F1 Score: {f1:.2f}')\n",
    "    print(f'AUC Score: {auc_score:.2f}')\n",
    "    return\n",
    "\n",
    "# Evaluate each trained model\n",
    "print(\"\\nEvaluating DNN Model:\")\n",
    "evaluate_model(trained_dnn, test_loader)\n",
    "\n",
    "print(\"\\nEvaluating ConvNet Model:\")\n",
    "evaluate_model(trained_convnet, test_loader)\n",
    "\n",
    "print(\"\\nEvaluating ResNet Model:\")\n",
    "evaluate_model(trained_resnet, test_loader)"
   ]
  },
  {
   "cell_type": "markdown",
   "id": "e2a2c596-b375-46c0-8014-d1fb744a3bc1",
   "metadata": {},
   "source": [
    "<h4>Step 4: Optimization</h4>"
   ]
  },
  {
   "cell_type": "markdown",
   "id": "d027ac4f-a66d-4c9e-9b7e-87dfd18da92f",
   "metadata": {},
   "source": [
    "I am using the Adam optimizer since it is a great choice because it combines the advantages of two popular optimizers: AdaGrad and RMSProp. It adapts the learning rate for each parameter, making training more efficient and usually faster, especially for complex models like neural networks. Adam also uses a momentum term, which helps the model move in the direction that reduces error the most, avoiding getting stuck in local minima. In simpler words, Adam is often preferred because it adjusts the learning rates automatically and helps models learn better without too much manual tweaking, making it well-suited for most deep learning problems, including image classification tasks like the one in this assignment."
   ]
  },
  {
   "cell_type": "markdown",
   "id": "3d8fac84-7f59-4823-9d57-5bbd73d79775",
   "metadata": {},
   "source": [
    "<h4>Step 5: Model Selection</h4>"
   ]
  },
  {
   "cell_type": "code",
   "execution_count": 26,
   "id": "b38e08e0-b21e-4bcd-8e7e-0a87a2897b08",
   "metadata": {},
   "outputs": [
    {
     "name": "stdout",
     "output_type": "stream",
     "text": [
      "\n",
      "Training and Evaluating DNN Model with Learning Rate: 0.1\n",
      "Epoch [1/20], Loss: 9.065548011997361\n",
      "Epoch [2/20], Loss: 2.3093362975476395\n",
      "Epoch [3/20], Loss: 2.3100795428127623\n",
      "Epoch [4/20], Loss: 2.3105593263975845\n",
      "Epoch [5/20], Loss: 2.309985208358846\n",
      "Epoch [6/20], Loss: 2.3095624906930334\n",
      "Epoch [7/20], Loss: 2.3103407522254407\n",
      "Epoch [8/20], Loss: 2.3102372559403053\n",
      "Epoch [9/20], Loss: 2.309346465667936\n",
      "Epoch [10/20], Loss: 2.309866758806111\n",
      "Epoch [11/20], Loss: 2.3103517601484937\n",
      "Epoch [12/20], Loss: 2.310051593445003\n",
      "Epoch [13/20], Loss: 2.309683098213505\n",
      "Epoch [14/20], Loss: 2.309737928386436\n",
      "Epoch [15/20], Loss: 2.31015879309762\n",
      "Epoch [16/20], Loss: 2.3104147034159093\n",
      "Epoch [17/20], Loss: 2.3103621946469044\n",
      "Epoch [18/20], Loss: 2.3099752171461514\n",
      "Epoch [19/20], Loss: 2.3107936056946388\n",
      "Epoch [20/20], Loss: 2.3108092518503476\n",
      "Accuracy: 11.35%\n",
      "F1 Score: 0.02\n",
      "\n",
      "Training and Evaluating ConvNet Model with Learning Rate: 0.1\n",
      "Epoch [1/10], Loss: 4.038779225939118\n",
      "Epoch [2/10], Loss: 2.3091782715274833\n",
      "Epoch [3/10], Loss: 2.310369956976315\n",
      "Epoch [4/10], Loss: 2.309648414918863\n",
      "Epoch [5/10], Loss: 2.309768184669999\n",
      "Epoch [6/10], Loss: 2.3100235162259164\n",
      "Epoch [7/10], Loss: 2.3102035258116245\n",
      "Epoch [8/10], Loss: 2.3092766695185256\n",
      "Epoch [9/10], Loss: 2.3105957950356166\n",
      "Epoch [10/10], Loss: 2.3092633295160874\n",
      "Accuracy: 11.35%\n",
      "F1 Score: 0.02\n",
      "\n",
      "Training and Evaluating ResNet Model with Learning Rate: 0.1\n"
     ]
    },
    {
     "name": "stderr",
     "output_type": "stream",
     "text": [
      "C:\\Users\\ARVISH\\AppData\\Local\\Programs\\Python\\Python312\\Lib\\site-packages\\torchvision\\models\\_utils.py:208: UserWarning: The parameter 'pretrained' is deprecated since 0.13 and may be removed in the future, please use 'weights' instead.\n",
      "  warnings.warn(\n",
      "C:\\Users\\ARVISH\\AppData\\Local\\Programs\\Python\\Python312\\Lib\\site-packages\\torchvision\\models\\_utils.py:223: UserWarning: Arguments other than a weight enum or `None` for 'weights' are deprecated since 0.13 and may be removed in the future. The current behavior is equivalent to passing `weights=None`.\n",
      "  warnings.warn(msg)\n"
     ]
    },
    {
     "name": "stdout",
     "output_type": "stream",
     "text": [
      "Epoch [1/15], Loss: 0.4899451289254465\n",
      "Epoch [2/15], Loss: 0.13705034353728118\n",
      "Epoch [3/15], Loss: 0.10885130696017037\n",
      "Epoch [4/15], Loss: 0.33761233947602715\n",
      "Epoch [5/15], Loss: 0.23503134314363985\n",
      "Epoch [6/15], Loss: 0.12399071273900299\n",
      "Epoch [7/15], Loss: 0.0929299538067953\n",
      "Epoch [8/15], Loss: 0.12305472351373362\n",
      "Epoch [9/15], Loss: 0.0834797135560956\n",
      "Epoch [10/15], Loss: 0.07300889099871656\n",
      "Epoch [11/15], Loss: 0.07439277862661085\n",
      "Epoch [12/15], Loss: 0.056900372787037176\n",
      "Epoch [13/15], Loss: 0.061808256126978975\n",
      "Epoch [14/15], Loss: 0.06231017122456584\n",
      "Epoch [15/15], Loss: 0.05174296689330231\n",
      "Accuracy: 98.72%\n",
      "F1 Score: 0.99\n"
     ]
    }
   ],
   "source": [
    "# Training and Evaluating Model: Learning Rate 0.1\n",
    "print(\"\\nTraining and Evaluating DNN Model with Learning Rate: 0.1\")\n",
    "dnn_model_lr_01 = DNN()\n",
    "trained_dnn_lr_01 = train_model(dnn_model_lr_01, train_loader, num_epochs=20, learning_rate=0.1)\n",
    "evaluate_model(trained_dnn_lr_01, test_loader)\n",
    "\n",
    "print(\"\\nTraining and Evaluating ConvNet Model with Learning Rate: 0.1\")\n",
    "convnet_model_lr_01 = ConvNet()\n",
    "trained_convnet_lr_01 = train_model(convnet_model_lr_01, train_loader, num_epochs=10, learning_rate=0.1)\n",
    "evaluate_model(trained_convnet_lr_01, test_loader)\n",
    "\n",
    "print(\"\\nTraining and Evaluating ResNet Model with Learning Rate: 0.1\")\n",
    "resnet_model_lr_01 = models.resnet18(pretrained=False)\n",
    "resnet_model_lr_01.conv1 = nn.Conv2d(1, 64, kernel_size=7, stride=2, padding=3, bias=False)\n",
    "resnet_model_lr_01.fc = nn.Linear(resnet_model_lr_01.fc.in_features, 10)\n",
    "trained_resnet_lr_01 = train_model(resnet_model_lr_01, train_loader, num_epochs=15, learning_rate=0.1)\n",
    "evaluate_model(trained_resnet_lr_01, test_loader)"
   ]
  },
  {
   "cell_type": "code",
   "execution_count": 27,
   "id": "a29816f9-27af-4840-9190-a9af1ac798a3",
   "metadata": {},
   "outputs": [
    {
     "name": "stdout",
     "output_type": "stream",
     "text": [
      "\n",
      "Training and Evaluating DNN Model with Learning Rate: 0.01\n",
      "Epoch [1/20], Loss: 0.42870985441751824\n",
      "Epoch [2/20], Loss: 0.2756992311282421\n",
      "Epoch [3/20], Loss: 0.25517865968570275\n",
      "Epoch [4/20], Loss: 0.25183788383764816\n",
      "Epoch [5/20], Loss: 0.24090157654573288\n",
      "Epoch [6/20], Loss: 0.2318889940095974\n",
      "Epoch [7/20], Loss: 0.2346925067463155\n",
      "Epoch [8/20], Loss: 0.23065406538800262\n",
      "Epoch [9/20], Loss: 0.23197780648417182\n",
      "Epoch [10/20], Loss: 0.21667470036348555\n",
      "Epoch [11/20], Loss: 0.21456004709287335\n",
      "Epoch [12/20], Loss: 0.21409163826198846\n",
      "Epoch [13/20], Loss: 0.21715305985878908\n",
      "Epoch [14/20], Loss: 0.21390357965837792\n",
      "Epoch [15/20], Loss: 0.21178074641776745\n",
      "Epoch [16/20], Loss: 0.20916449445794258\n",
      "Epoch [17/20], Loss: 0.21001877270535682\n",
      "Epoch [18/20], Loss: 0.1987246198118972\n",
      "Epoch [19/20], Loss: 0.2027919384852441\n",
      "Epoch [20/20], Loss: 0.20694863122663518\n",
      "Accuracy: 94.40%\n",
      "F1 Score: 0.94\n",
      "\n",
      "Training and Evaluating ConvNet Model with Learning Rate: 0.01\n",
      "Epoch [1/10], Loss: 0.29589020732099186\n",
      "Epoch [2/10], Loss: 0.159408105924519\n",
      "Epoch [3/10], Loss: 0.13914818847790233\n",
      "Epoch [4/10], Loss: 0.1285489930047481\n",
      "Epoch [5/10], Loss: 0.1213548663941059\n",
      "Epoch [6/10], Loss: 0.12071135306486618\n",
      "Epoch [7/10], Loss: 0.1183391300428198\n",
      "Epoch [8/10], Loss: 0.11367038856230692\n",
      "Epoch [9/10], Loss: 0.11052247656604597\n",
      "Epoch [10/10], Loss: 0.10742938881968336\n",
      "Accuracy: 96.74%\n",
      "F1 Score: 0.97\n",
      "\n",
      "Training and Evaluating ResNet Model with Learning Rate: 0.01\n"
     ]
    },
    {
     "name": "stderr",
     "output_type": "stream",
     "text": [
      "C:\\Users\\ARVISH\\AppData\\Local\\Programs\\Python\\Python312\\Lib\\site-packages\\torchvision\\models\\_utils.py:208: UserWarning: The parameter 'pretrained' is deprecated since 0.13 and may be removed in the future, please use 'weights' instead.\n",
      "  warnings.warn(\n",
      "C:\\Users\\ARVISH\\AppData\\Local\\Programs\\Python\\Python312\\Lib\\site-packages\\torchvision\\models\\_utils.py:223: UserWarning: Arguments other than a weight enum or `None` for 'weights' are deprecated since 0.13 and may be removed in the future. The current behavior is equivalent to passing `weights=None`.\n",
      "  warnings.warn(msg)\n"
     ]
    },
    {
     "name": "stdout",
     "output_type": "stream",
     "text": [
      "Epoch [1/15], Loss: 0.18388563724977375\n",
      "Epoch [2/15], Loss: 0.07281774673377599\n",
      "Epoch [3/15], Loss: 0.05948611000515044\n",
      "Epoch [4/15], Loss: 0.05894376289449508\n",
      "Epoch [5/15], Loss: 0.04349920937807849\n",
      "Epoch [6/15], Loss: 0.03890320277980542\n",
      "Epoch [7/15], Loss: 0.033160404568016\n",
      "Epoch [8/15], Loss: 0.031851533312308125\n",
      "Epoch [9/15], Loss: 0.02747135842298891\n",
      "Epoch [10/15], Loss: 0.026812532290924965\n",
      "Epoch [11/15], Loss: 0.023567643776278274\n",
      "Epoch [12/15], Loss: 0.02026982495186794\n",
      "Epoch [13/15], Loss: 0.020060972878489992\n",
      "Epoch [14/15], Loss: 0.0185645591703339\n",
      "Epoch [15/15], Loss: 0.019847699256444532\n",
      "Accuracy: 99.24%\n",
      "F1 Score: 0.99\n"
     ]
    }
   ],
   "source": [
    "# Training and Evaluating Model: Learning Rate 0.01\n",
    "print(\"\\nTraining and Evaluating DNN Model with Learning Rate: 0.01\")\n",
    "dnn_model_lr_001 = DNN()\n",
    "trained_dnn_lr_001 = train_model(dnn_model_lr_001, train_loader, num_epochs=20, learning_rate=0.01)\n",
    "evaluate_model(trained_dnn_lr_001, test_loader)\n",
    "\n",
    "print(\"\\nTraining and Evaluating ConvNet Model with Learning Rate: 0.01\")\n",
    "convnet_model_lr_001 = ConvNet()\n",
    "trained_convnet_lr_001 = train_model(convnet_model_lr_001, train_loader, num_epochs=10, learning_rate=0.01)\n",
    "evaluate_model(trained_convnet_lr_001, test_loader)\n",
    "\n",
    "print(\"\\nTraining and Evaluating ResNet Model with Learning Rate: 0.01\")\n",
    "resnet_model_lr_001 = models.resnet18(pretrained=False)\n",
    "resnet_model_lr_001.conv1 = nn.Conv2d(1, 64, kernel_size=7, stride=2, padding=3, bias=False)\n",
    "resnet_model_lr_001.fc = nn.Linear(resnet_model_lr_001.fc.in_features, 10)\n",
    "trained_resnet_lr_001 = train_model(resnet_model_lr_001, train_loader, num_epochs=15, learning_rate=0.01)\n",
    "evaluate_model(trained_resnet_lr_001, test_loader)"
   ]
  },
  {
   "cell_type": "code",
   "execution_count": 28,
   "id": "27ab0d15-8de1-4a34-9e9c-00bec3fd3ac1",
   "metadata": {},
   "outputs": [
    {
     "name": "stdout",
     "output_type": "stream",
     "text": [
      "\n",
      "Training and Evaluating DNN Model with Learning Rate: 0.001\n",
      "Epoch [1/20], Loss: 0.30132250817440975\n",
      "Epoch [2/20], Loss: 0.13596916110860482\n",
      "Epoch [3/20], Loss: 0.1023775060285828\n",
      "Epoch [4/20], Loss: 0.0818235253939268\n",
      "Epoch [5/20], Loss: 0.06898011947135085\n",
      "Epoch [6/20], Loss: 0.061337418978346755\n",
      "Epoch [7/20], Loss: 0.05320273722317924\n",
      "Epoch [8/20], Loss: 0.04760294840365811\n",
      "Epoch [9/20], Loss: 0.04157653894478161\n",
      "Epoch [10/20], Loss: 0.03951588121395105\n",
      "Epoch [11/20], Loss: 0.03756150732308426\n",
      "Epoch [12/20], Loss: 0.03211863302479855\n",
      "Epoch [13/20], Loss: 0.03321810029252846\n",
      "Epoch [14/20], Loss: 0.029614824503256688\n",
      "Epoch [15/20], Loss: 0.027831058744644276\n",
      "Epoch [16/20], Loss: 0.027416211332211324\n",
      "Epoch [17/20], Loss: 0.023674183868976715\n",
      "Epoch [18/20], Loss: 0.025740182812289184\n",
      "Epoch [19/20], Loss: 0.021090194305436606\n",
      "Epoch [20/20], Loss: 0.024573009553394316\n",
      "Accuracy: 97.85%\n",
      "F1 Score: 0.98\n",
      "\n",
      "Training and Evaluating ConvNet Model with Learning Rate: 0.001\n",
      "Epoch [1/10], Loss: 0.16290066560118724\n",
      "Epoch [2/10], Loss: 0.044520673171025336\n",
      "Epoch [3/10], Loss: 0.03169908262637835\n",
      "Epoch [4/10], Loss: 0.02244294039045112\n",
      "Epoch [5/10], Loss: 0.01810052281487356\n",
      "Epoch [6/10], Loss: 0.01387958479160294\n",
      "Epoch [7/10], Loss: 0.009307247017631274\n",
      "Epoch [8/10], Loss: 0.010457077304416085\n",
      "Epoch [9/10], Loss: 0.007940234946226143\n",
      "Epoch [10/10], Loss: 0.007361539953864795\n",
      "Accuracy: 99.21%\n",
      "F1 Score: 0.99\n",
      "\n",
      "Training and Evaluating ResNet Model with Learning Rate: 0.001\n"
     ]
    },
    {
     "name": "stderr",
     "output_type": "stream",
     "text": [
      "C:\\Users\\ARVISH\\AppData\\Local\\Programs\\Python\\Python312\\Lib\\site-packages\\torchvision\\models\\_utils.py:208: UserWarning: The parameter 'pretrained' is deprecated since 0.13 and may be removed in the future, please use 'weights' instead.\n",
      "  warnings.warn(\n",
      "C:\\Users\\ARVISH\\AppData\\Local\\Programs\\Python\\Python312\\Lib\\site-packages\\torchvision\\models\\_utils.py:223: UserWarning: Arguments other than a weight enum or `None` for 'weights' are deprecated since 0.13 and may be removed in the future. The current behavior is equivalent to passing `weights=None`.\n",
      "  warnings.warn(msg)\n"
     ]
    },
    {
     "name": "stdout",
     "output_type": "stream",
     "text": [
      "Epoch [1/15], Loss: 0.13419685912564763\n",
      "Epoch [2/15], Loss: 0.061596951875979626\n",
      "Epoch [3/15], Loss: 0.046413064996988926\n",
      "Epoch [4/15], Loss: 0.03882850300974467\n",
      "Epoch [5/15], Loss: 0.033617631249218634\n",
      "Epoch [6/15], Loss: 0.02881021456409171\n",
      "Epoch [7/15], Loss: 0.027140556698365174\n",
      "Epoch [8/15], Loss: 0.020635727550063692\n",
      "Epoch [9/15], Loss: 0.019940052878826227\n",
      "Epoch [10/15], Loss: 0.020179168441043886\n",
      "Epoch [11/15], Loss: 0.015618092119991775\n",
      "Epoch [12/15], Loss: 0.015439630648308287\n",
      "Epoch [13/15], Loss: 0.011726693662247753\n",
      "Epoch [14/15], Loss: 0.013917795755424062\n",
      "Epoch [15/15], Loss: 0.012013784928469273\n",
      "Accuracy: 99.22%\n",
      "F1 Score: 0.99\n"
     ]
    }
   ],
   "source": [
    "# Training and Evaluating Model: Learning Rate 0.001\n",
    "print(\"\\nTraining and Evaluating DNN Model with Learning Rate: 0.001\")\n",
    "dnn_model_lr_0001 = DNN()\n",
    "trained_dnn_lr_0001 = train_model(dnn_model_lr_0001, train_loader, num_epochs=20, learning_rate=0.001)\n",
    "evaluate_model(trained_dnn_lr_0001, test_loader)\n",
    "\n",
    "print(\"\\nTraining and Evaluating ConvNet Model with Learning Rate: 0.001\")\n",
    "convnet_model_lr_0001 = ConvNet()\n",
    "trained_convnet_lr_0001 = train_model(convnet_model_lr_0001, train_loader, num_epochs=10, learning_rate=0.001)\n",
    "evaluate_model(trained_convnet_lr_0001, test_loader)\n",
    "\n",
    "print(\"\\nTraining and Evaluating ResNet Model with Learning Rate: 0.001\")\n",
    "resnet_model_lr_0001 = models.resnet18(pretrained=False)\n",
    "resnet_model_lr_0001.conv1 = nn.Conv2d(1, 64, kernel_size=7, stride=2, padding=3, bias=False)\n",
    "resnet_model_lr_0001.fc = nn.Linear(resnet_model_lr_0001.fc.in_features, 10)\n",
    "trained_resnet_lr_0001 = train_model(resnet_model_lr_0001, train_loader, num_epochs=15, learning_rate=0.001)\n",
    "evaluate_model(trained_resnet_lr_0001, test_loader)"
   ]
  },
  {
   "cell_type": "markdown",
   "id": "261ca043-77f6-4f87-95d3-6a07d19f16fa",
   "metadata": {},
   "source": [
    "To avoid overfitting and underfitting in the code, I balanced the model's complexity, tuned hyperparameters, and used techniques like regularization and dropout. To prevent overfitting, I used dropout layers in the model and chose an appropriate learning rate, which helps the model generalize better without memorizing training data. I also used enough training epochs to ensure the model learns effectively, but not too many to avoid overfitting. Additionally, early stopping could be implemented to stop training when performance stops improving on the validation set, which helps achieve a good balance between underfitting and overfitting."
   ]
  },
  {
   "cell_type": "markdown",
   "id": "a1cc8d47-0ab5-46f6-97c3-7fa97433148f",
   "metadata": {},
   "source": [
    "<h4>Step 6: Model Performance Analysis</h4>"
   ]
  },
  {
   "cell_type": "markdown",
   "id": "7f5ae7d2-9df3-4c28-9dbb-162f4fd4c598",
   "metadata": {},
   "source": [
    "<h4>Part A: Reporting F1 & AUC for DNN, ConvNet, ResNet</h4>"
   ]
  },
  {
   "cell_type": "code",
   "execution_count": 44,
   "id": "d0580de7-1960-4bed-b36c-c06f81d88dbb",
   "metadata": {},
   "outputs": [
    {
     "name": "stdout",
     "output_type": "stream",
     "text": [
      "\n",
      "Evaluating Models at Learning Rate: 0.1\n",
      "\n",
      "Training and Evaluating DNN Model with Learning Rate: 0.1\n",
      "Epoch [1/10], Loss: 7.968905767652272\n",
      "Epoch [2/10], Loss: 2.3089669459918416\n",
      "Epoch [3/10], Loss: 2.309715346486838\n",
      "Epoch [4/10], Loss: 2.310023056927012\n",
      "Epoch [5/10], Loss: 2.3100380989025906\n",
      "Epoch [6/10], Loss: 2.309704539109903\n",
      "Epoch [7/10], Loss: 2.309984484206893\n",
      "Epoch [8/10], Loss: 2.309402334918854\n",
      "Epoch [9/10], Loss: 2.309927305687211\n",
      "Epoch [10/10], Loss: 2.310049748115702\n",
      "Accuracy: 9.58%\n",
      "F1 Score: 0.02\n",
      "AUC Score: 0.50\n",
      "\n",
      "Training and Evaluating ConvNet Model with Learning Rate: 0.1\n",
      "Epoch [1/10], Loss: 4.113804016794477\n",
      "Epoch [2/10], Loss: 2.309375005998591\n",
      "Epoch [3/10], Loss: 2.3106075591369986\n",
      "Epoch [4/10], Loss: 2.31010954339367\n",
      "Epoch [5/10], Loss: 2.3104713301160444\n",
      "Epoch [6/10], Loss: 2.3097155305114128\n",
      "Epoch [7/10], Loss: 2.3099829688001035\n",
      "Epoch [8/10], Loss: 2.309834450801044\n",
      "Epoch [9/10], Loss: 2.311188751192235\n",
      "Epoch [10/10], Loss: 2.309064262965595\n",
      "Accuracy: 9.58%\n",
      "F1 Score: 0.02\n",
      "AUC Score: 0.50\n",
      "\n",
      "Training and Evaluating ResNet Model with Learning Rate: 0.1\n"
     ]
    },
    {
     "name": "stderr",
     "output_type": "stream",
     "text": [
      "C:\\Users\\ARVISH\\AppData\\Local\\Programs\\Python\\Python312\\Lib\\site-packages\\torchvision\\models\\_utils.py:208: UserWarning: The parameter 'pretrained' is deprecated since 0.13 and may be removed in the future, please use 'weights' instead.\n",
      "  warnings.warn(\n",
      "C:\\Users\\ARVISH\\AppData\\Local\\Programs\\Python\\Python312\\Lib\\site-packages\\torchvision\\models\\_utils.py:223: UserWarning: Arguments other than a weight enum or `None` for 'weights' are deprecated since 0.13 and may be removed in the future. The current behavior is equivalent to passing `weights=None`.\n",
      "  warnings.warn(msg)\n"
     ]
    },
    {
     "name": "stdout",
     "output_type": "stream",
     "text": [
      "Epoch [1/10], Loss: 0.7064040926203672\n",
      "Epoch [2/10], Loss: 0.12024228514528582\n",
      "Epoch [3/10], Loss: 0.13803059865223136\n",
      "Epoch [4/10], Loss: 0.09103178894899384\n",
      "Epoch [5/10], Loss: 0.09251781755366793\n",
      "Epoch [6/10], Loss: 0.09460445827229132\n",
      "Epoch [7/10], Loss: 0.08194619111141124\n",
      "Epoch [8/10], Loss: 0.08840230418737037\n",
      "Epoch [9/10], Loss: 0.08351176739238433\n",
      "Epoch [10/10], Loss: 0.05890056647003881\n",
      "Accuracy: 98.97%\n",
      "F1 Score: 0.99\n",
      "AUC Score: 1.00\n",
      "\n",
      "Evaluating Models at Learning Rate: 0.01\n",
      "\n",
      "Training and Evaluating DNN Model with Learning Rate: 0.01\n",
      "Epoch [1/10], Loss: 0.4465797156143163\n",
      "Epoch [2/10], Loss: 0.2898108690683204\n",
      "Epoch [3/10], Loss: 0.27592966790551315\n",
      "Epoch [4/10], Loss: 0.2560647268618729\n",
      "Epoch [5/10], Loss: 0.2551918131257616\n",
      "Epoch [6/10], Loss: 0.2538948763729826\n",
      "Epoch [7/10], Loss: 0.2500251789273484\n",
      "Epoch [8/10], Loss: 0.2399053751393708\n",
      "Epoch [9/10], Loss: 0.24250314113840873\n",
      "Epoch [10/10], Loss: 0.2310237579806241\n",
      "Accuracy: 93.00%\n",
      "F1 Score: 0.93\n",
      "AUC Score: 1.00\n",
      "\n",
      "Training and Evaluating ConvNet Model with Learning Rate: 0.01\n",
      "Epoch [1/10], Loss: 0.21768183906628155\n",
      "Epoch [2/10], Loss: 0.10506093013050682\n",
      "Epoch [3/10], Loss: 0.09393201540234183\n",
      "Epoch [4/10], Loss: 0.0889563690707175\n",
      "Epoch [5/10], Loss: 0.08325336750172056\n",
      "Epoch [6/10], Loss: 0.07962034816698813\n",
      "Epoch [7/10], Loss: 0.08262953327017784\n",
      "Epoch [8/10], Loss: 0.07730477502947347\n",
      "Epoch [9/10], Loss: 0.07200723811837612\n",
      "Epoch [10/10], Loss: 0.07235816852507322\n",
      "Accuracy: 97.52%\n",
      "F1 Score: 0.98\n",
      "AUC Score: 1.00\n",
      "\n",
      "Training and Evaluating ResNet Model with Learning Rate: 0.01\n"
     ]
    },
    {
     "name": "stderr",
     "output_type": "stream",
     "text": [
      "C:\\Users\\ARVISH\\AppData\\Local\\Programs\\Python\\Python312\\Lib\\site-packages\\torchvision\\models\\_utils.py:208: UserWarning: The parameter 'pretrained' is deprecated since 0.13 and may be removed in the future, please use 'weights' instead.\n",
      "  warnings.warn(\n",
      "C:\\Users\\ARVISH\\AppData\\Local\\Programs\\Python\\Python312\\Lib\\site-packages\\torchvision\\models\\_utils.py:223: UserWarning: Arguments other than a weight enum or `None` for 'weights' are deprecated since 0.13 and may be removed in the future. The current behavior is equivalent to passing `weights=None`.\n",
      "  warnings.warn(msg)\n"
     ]
    },
    {
     "name": "stdout",
     "output_type": "stream",
     "text": [
      "Epoch [1/10], Loss: 0.18485806420294523\n",
      "Epoch [2/10], Loss: 0.07613881945746319\n",
      "Epoch [3/10], Loss: 0.05742306697726208\n",
      "Epoch [4/10], Loss: 0.04895618178602829\n",
      "Epoch [5/10], Loss: 0.046446219512717185\n",
      "Epoch [6/10], Loss: 0.03934580119291215\n",
      "Epoch [7/10], Loss: 0.037312644373610065\n",
      "Epoch [8/10], Loss: 0.03375925204206468\n",
      "Epoch [9/10], Loss: 0.03140976174260835\n",
      "Epoch [10/10], Loss: 0.02438341958512766\n",
      "Accuracy: 99.17%\n",
      "F1 Score: 0.99\n",
      "AUC Score: 1.00\n"
     ]
    }
   ],
   "source": [
    "# Part A: Report F1 and AUC for models at LR 0.1 and 0.01\n",
    "learning_rates = [0.1, 0.01]\n",
    "models_to_evaluate = [DNN, ConvNet, models.resnet18]\n",
    "model_names = ['DNN', 'ConvNet', 'ResNet']\n",
    "\n",
    "for lr in learning_rates:\n",
    "    print(f\"\\nEvaluating Models at Learning Rate: {lr}\")\n",
    "    for model_cls, model_name in zip(models_to_evaluate, model_names):\n",
    "        print(f\"\\nTraining and Evaluating {model_name} Model with Learning Rate: {lr}\")\n",
    "        if model_name in ['ResNet']:\n",
    "            model = model_cls(pretrained=False)\n",
    "            if model_name == 'ResNet':\n",
    "                model.conv1 = nn.Conv2d(1, 64, kernel_size=7, stride=2, padding=3, bias=False)\n",
    "                model.fc = nn.Linear(model.fc.in_features, 10)\n",
    "            \n",
    "        else:\n",
    "            model = model_cls()\n",
    "        trained_model = train_model(model, train_loader, num_epochs=10, learning_rate=lr)\n",
    "        evaluate_model(trained_model, test_loader)"
   ]
  },
  {
   "cell_type": "markdown",
   "id": "eb779620-77f0-4703-8aa5-77a715a9de9b",
   "metadata": {},
   "source": [
    "<h4>Part B: Plot training and validation loss, accuracy and F1 score</h4>"
   ]
  },
  {
   "cell_type": "code",
   "execution_count": 47,
   "id": "9f9a5299-1fd5-4b5e-963f-f4f67b3d45e3",
   "metadata": {},
   "outputs": [
    {
     "name": "stdout",
     "output_type": "stream",
     "text": [
      "\n",
      "Training and Collecting Metrics for DNN Model\n",
      "Accuracy: 91.84%\n",
      "F1 Score: 0.92\n",
      "AUC Score: 0.99\n",
      "Epoch [1/10], Loss: 0.4414264345442308, Accuracy: 91.84%, F1 Score: 0.92\n",
      "Accuracy: 90.80%\n",
      "F1 Score: 0.91\n",
      "AUC Score: 0.99\n",
      "Epoch [2/10], Loss: 0.2986314019152541, Accuracy: 90.80%, F1 Score: 0.91\n",
      "Accuracy: 93.12%\n",
      "F1 Score: 0.93\n",
      "AUC Score: 1.00\n",
      "Epoch [3/10], Loss: 0.27857389390818094, Accuracy: 93.12%, F1 Score: 0.93\n",
      "Accuracy: 92.37%\n",
      "F1 Score: 0.92\n",
      "AUC Score: 1.00\n",
      "Epoch [4/10], Loss: 0.2628523524381967, Accuracy: 92.37%, F1 Score: 0.92\n",
      "Accuracy: 92.65%\n",
      "F1 Score: 0.93\n",
      "AUC Score: 0.99\n",
      "Epoch [5/10], Loss: 0.2555974163273886, Accuracy: 92.65%, F1 Score: 0.93\n",
      "Accuracy: 93.05%\n",
      "F1 Score: 0.93\n",
      "AUC Score: 1.00\n",
      "Epoch [6/10], Loss: 0.24667186608542002, Accuracy: 93.05%, F1 Score: 0.93\n",
      "Accuracy: 93.52%\n",
      "F1 Score: 0.94\n",
      "AUC Score: 1.00\n",
      "Epoch [7/10], Loss: 0.2414763196309937, Accuracy: 93.52%, F1 Score: 0.94\n",
      "Accuracy: 93.37%\n",
      "F1 Score: 0.93\n",
      "AUC Score: 1.00\n",
      "Epoch [8/10], Loss: 0.23443897103449937, Accuracy: 93.37%, F1 Score: 0.93\n",
      "Accuracy: 93.11%\n",
      "F1 Score: 0.93\n",
      "AUC Score: 1.00\n",
      "Epoch [9/10], Loss: 0.23371003931864842, Accuracy: 93.11%, F1 Score: 0.93\n",
      "Accuracy: 93.25%\n",
      "F1 Score: 0.93\n",
      "AUC Score: 1.00\n",
      "Epoch [10/10], Loss: 0.22938634855930867, Accuracy: 93.25%, F1 Score: 0.93\n"
     ]
    },
    {
     "data": {
      "image/png": "[encoded data removed]",
      "text/plain": [
       "<Figure size 1200x400 with 3 Axes>"
      ]
     },
     "metadata": {},
     "output_type": "display_data"
    },
    {
     "name": "stdout",
     "output_type": "stream",
     "text": [
      "\n",
      "Training and Collecting Metrics for ConvNet Model\n",
      "Accuracy: 97.57%\n",
      "F1 Score: 0.98\n",
      "AUC Score: 1.00\n",
      "Epoch [1/10], Loss: 0.18560557736447258, Accuracy: 97.57%, F1 Score: 0.98\n",
      "Accuracy: 97.31%\n",
      "F1 Score: 0.97\n",
      "AUC Score: 1.00\n",
      "Epoch [2/10], Loss: 0.08784619970094494, Accuracy: 97.31%, F1 Score: 0.97\n",
      "Accuracy: 97.50%\n",
      "F1 Score: 0.98\n",
      "AUC Score: 1.00\n",
      "Epoch [3/10], Loss: 0.07754172815525257, Accuracy: 97.50%, F1 Score: 0.98\n",
      "Accuracy: 97.32%\n",
      "F1 Score: 0.97\n",
      "AUC Score: 1.00\n",
      "Epoch [4/10], Loss: 0.07305607785698402, Accuracy: 97.32%, F1 Score: 0.97\n",
      "Accuracy: 98.29%\n",
      "F1 Score: 0.98\n",
      "AUC Score: 1.00\n",
      "Epoch [5/10], Loss: 0.06817678829039713, Accuracy: 98.29%, F1 Score: 0.98\n",
      "Accuracy: 97.80%\n",
      "F1 Score: 0.98\n",
      "AUC Score: 1.00\n",
      "Epoch [6/10], Loss: 0.06612566405073439, Accuracy: 97.80%, F1 Score: 0.98\n",
      "Accuracy: 97.63%\n",
      "F1 Score: 0.98\n",
      "AUC Score: 1.00\n",
      "Epoch [7/10], Loss: 0.0641424668353712, Accuracy: 97.63%, F1 Score: 0.98\n",
      "Accuracy: 97.96%\n",
      "F1 Score: 0.98\n",
      "AUC Score: 1.00\n",
      "Epoch [8/10], Loss: 0.0630802644788648, Accuracy: 97.96%, F1 Score: 0.98\n",
      "Accuracy: 98.18%\n",
      "F1 Score: 0.98\n",
      "AUC Score: 1.00\n",
      "Epoch [9/10], Loss: 0.06204646142031125, Accuracy: 98.18%, F1 Score: 0.98\n",
      "Accuracy: 97.81%\n",
      "F1 Score: 0.98\n",
      "AUC Score: 1.00\n",
      "Epoch [10/10], Loss: 0.059728614501474986, Accuracy: 97.81%, F1 Score: 0.98\n"
     ]
    },
    {
     "data": {
      "image/png": "[encoded data removed]",
      "text/plain": [
       "<Figure size 1200x400 with 3 Axes>"
      ]
     },
     "metadata": {},
     "output_type": "display_data"
    },
    {
     "name": "stdout",
     "output_type": "stream",
     "text": [
      "\n",
      "Training and Collecting Metrics for ResNet Model\n"
     ]
    },
    {
     "name": "stderr",
     "output_type": "stream",
     "text": [
      "C:\\Users\\ARVISH\\AppData\\Local\\Programs\\Python\\Python312\\Lib\\site-packages\\torchvision\\models\\_utils.py:208: UserWarning: The parameter 'pretrained' is deprecated since 0.13 and may be removed in the future, please use 'weights' instead.\n",
      "  warnings.warn(\n",
      "C:\\Users\\ARVISH\\AppData\\Local\\Programs\\Python\\Python312\\Lib\\site-packages\\torchvision\\models\\_utils.py:223: UserWarning: Arguments other than a weight enum or `None` for 'weights' are deprecated since 0.13 and may be removed in the future. The current behavior is equivalent to passing `weights=None`.\n",
      "  warnings.warn(msg)\n"
     ]
    },
    {
     "name": "stdout",
     "output_type": "stream",
     "text": [
      "Accuracy: 97.75%\n",
      "F1 Score: 0.98\n",
      "AUC Score: 1.00\n",
      "Epoch [1/10], Loss: 0.18142618663258542, Accuracy: 97.75%, F1 Score: 0.98\n",
      "Accuracy: 98.68%\n",
      "F1 Score: 0.99\n",
      "AUC Score: 1.00\n",
      "Epoch [2/10], Loss: 0.07928654131591757, Accuracy: 98.68%, F1 Score: 0.99\n",
      "Accuracy: 98.45%\n",
      "F1 Score: 0.98\n",
      "AUC Score: 1.00\n",
      "Epoch [3/10], Loss: 0.05653372984859836, Accuracy: 98.45%, F1 Score: 0.98\n",
      "Accuracy: 99.03%\n",
      "F1 Score: 0.99\n",
      "AUC Score: 1.00\n",
      "Epoch [4/10], Loss: 0.0488681393081608, Accuracy: 99.03%, F1 Score: 0.99\n",
      "Accuracy: 98.56%\n",
      "F1 Score: 0.99\n",
      "AUC Score: 1.00\n",
      "Epoch [5/10], Loss: 0.045921043802663604, Accuracy: 98.56%, F1 Score: 0.99\n",
      "Accuracy: 98.61%\n",
      "F1 Score: 0.99\n",
      "AUC Score: 1.00\n",
      "Epoch [6/10], Loss: 0.04053449314766822, Accuracy: 98.61%, F1 Score: 0.99\n",
      "Accuracy: 98.40%\n",
      "F1 Score: 0.98\n",
      "AUC Score: 1.00\n",
      "Epoch [7/10], Loss: 0.033982131457374394, Accuracy: 98.40%, F1 Score: 0.98\n",
      "Accuracy: 98.64%\n",
      "F1 Score: 0.99\n",
      "AUC Score: 1.00\n",
      "Epoch [8/10], Loss: 0.03297946237437891, Accuracy: 98.64%, F1 Score: 0.99\n",
      "Accuracy: 99.10%\n",
      "F1 Score: 0.99\n",
      "AUC Score: 1.00\n",
      "Epoch [9/10], Loss: 0.028751557725790102, Accuracy: 99.10%, F1 Score: 0.99\n",
      "Accuracy: 99.20%\n",
      "F1 Score: 0.99\n",
      "AUC Score: 1.00\n",
      "Epoch [10/10], Loss: 0.026021169571908035, Accuracy: 99.20%, F1 Score: 0.99\n"
     ]
    },
    {
     "data": {
      "image/png": "[encoded data removed]",
      "text/plain": [
       "<Figure size 1200x400 with 3 Axes>"
      ]
     },
     "metadata": {},
     "output_type": "display_data"
    }
   ],
   "source": [
    "def train_model_collect_metrics(model, train_loader, test_loader, num_epochs=10, learning_rate=0.001):\n",
    "    model = model.to(device)\n",
    "    criterion = nn.CrossEntropyLoss()\n",
    "    optimizer = optim.Adam(model.parameters(), lr=learning_rate)\n",
    "    \n",
    "    losses = []\n",
    "    accuracies = []\n",
    "    f1_scores = []\n",
    "    for epoch in range(num_epochs):\n",
    "        model.train()\n",
    "        running_loss = 0.0\n",
    "        for images, labels in train_loader:\n",
    "            images, labels = images.to(device), labels.to(device)\n",
    "            optimizer.zero_grad()\n",
    "            outputs = model(images)\n",
    "            loss = criterion(outputs, labels)\n",
    "            loss.backward()\n",
    "            optimizer.step()\n",
    "            running_loss += loss.item()\n",
    "        avg_loss = running_loss / len(train_loader)\n",
    "        losses.append(avg_loss)\n",
    "        \n",
    "        # Evaluate on test set\n",
    "        y_true, y_pred, _ = evaluate_model(model, test_loader)\n",
    "        accuracy = accuracy_score(y_true, y_pred)\n",
    "        f1 = f1_score(y_true, y_pred, average='weighted')\n",
    "        accuracies.append(accuracy)\n",
    "        f1_scores.append(f1)\n",
    "        \n",
    "        print(f'Epoch [{epoch+1}/{num_epochs}], Loss: {avg_loss}, Accuracy: {accuracy * 100:.2f}%, F1 Score: {f1:.2f}')\n",
    "    return losses, accuracies, f1_scores\n",
    "\n",
    "def plot_metrics(model_name, losses, accuracies, f1_scores):\n",
    "    epochs = range(1, len(losses) + 1)\n",
    "    plt.figure(figsize=(12, 4))\n",
    "    \n",
    "    # Plot Loss\n",
    "    plt.subplot(1, 3, 1)\n",
    "    plt.plot(epochs, losses, label='Loss')\n",
    "    plt.xlabel('Epoch')\n",
    "    plt.ylabel('Loss')\n",
    "    plt.title(f'{model_name} - Training Loss')\n",
    "    \n",
    "    # Plot Accuracy\n",
    "    plt.subplot(1, 3, 2)\n",
    "    plt.plot(epochs, accuracies, label='Accuracy')\n",
    "    plt.xlabel('Epoch')\n",
    "    plt.ylabel('Accuracy')\n",
    "    plt.title(f'{model_name} - Accuracy')\n",
    "    \n",
    "    # Plot F1 Score\n",
    "    plt.subplot(1, 3, 3)\n",
    "    plt.plot(epochs, f1_scores, label='F1 Score')\n",
    "    plt.xlabel('Epoch')\n",
    "    plt.ylabel('F1 Score')\n",
    "    plt.title(f'{model_name} - F1 Score')\n",
    "    \n",
    "    plt.tight_layout()\n",
    "    plt.show()\n",
    "\n",
    "# Collect metrics for each model and plot\n",
    "for model_cls, model_name in zip(models_to_evaluate, model_names):\n",
    "    print(f\"\\nTraining and Collecting Metrics for {model_name} Model\")\n",
    "    if model_name == 'ResNet':\n",
    "        model = model_cls(pretrained=False)\n",
    "        model.conv1 = nn.Conv2d(1, 64, kernel_size=7, stride=2, padding=3, bias=False)\n",
    "        model.fc = nn.Linear(model.fc.in_features, 10)\n",
    "    else:\n",
    "        model = model_cls()\n",
    "    losses, accuracies, f1_scores = train_model_collect_metrics(model, train_loader, test_loader, num_epochs=10, learning_rate=0.01)\n",
    "    plot_metrics(model_name, losses, accuracies, f1_scores)"
   ]
  },
  {
   "cell_type": "markdown",
   "id": "9f71f0ed-484a-4324-a6a1-565962132c04",
   "metadata": {},
   "source": [
    "<h4>Part C: Plot AUC-ROC curve for best model</h4>"
   ]
  },
  {
   "cell_type": "code",
   "execution_count": 49,
   "id": "98614dbf-8fa9-43b9-9c81-b21c136e6d52",
   "metadata": {},
   "outputs": [
    {
     "name": "stdout",
     "output_type": "stream",
     "text": [
      "\n",
      "Plotting ROC-AUC Curve for ResNet Model\n",
      "Epoch [1/10], Loss: 0.1881381182033799\n",
      "Epoch [2/10], Loss: 0.07917208844763059\n",
      "Epoch [3/10], Loss: 0.07219576319365123\n",
      "Epoch [4/10], Loss: 0.053287452178554726\n",
      "Epoch [5/10], Loss: 0.04366542210531938\n",
      "Epoch [6/10], Loss: 0.039408701152183555\n",
      "Epoch [7/10], Loss: 0.03465621516861303\n",
      "Epoch [8/10], Loss: 0.0317601037374859\n",
      "Epoch [9/10], Loss: 0.030153629886688786\n",
      "Epoch [10/10], Loss: 0.026440124517755313\n"
     ]
    },
    {
     "data": {
      "image/png": "[encoded data removed]",
      "text/plain": [
       "<Figure size 640x480 with 1 Axes>"
      ]
     },
     "metadata": {},
     "output_type": "display_data"
    }
   ],
   "source": [
    "def plot_roc_auc(model, test_loader):\n",
    "    model = model.to(device)\n",
    "    model.eval()\n",
    "    y_true = []\n",
    "    y_score = []\n",
    "    with torch.no_grad():\n",
    "        for images, labels in test_loader:\n",
    "            images, labels = images.to(device), labels.to(device)\n",
    "            outputs = model(images)\n",
    "            probs = nn.functional.softmax(outputs, dim=1)\n",
    "            y_true.extend(labels.cpu().numpy())\n",
    "            y_score.extend(probs.cpu().numpy())\n",
    "    y_true = np.array(y_true)\n",
    "    y_score = np.array(y_score)\n",
    "    fpr, tpr, _ = roc_curve(y_true, y_score[:, 1], pos_label=1)\n",
    "    roc_auc = auc(fpr, tpr)\n",
    "    plt.figure()\n",
    "    plt.plot(fpr, tpr, color='darkorange', lw=2, label=f'ROC curve (area = {roc_auc:.2f})')\n",
    "    plt.plot([0, 1], [0, 1], color='navy', lw=2, linestyle='--')\n",
    "    plt.xlabel('False Positive Rate')\n",
    "    plt.ylabel('True Positive Rate')\n",
    "    plt.title('Receiver Operating Characteristic (ROC)')\n",
    "    plt.legend(loc='lower right')\n",
    "    plt.show()\n",
    "\n",
    "# Plot ROC-AUC for ResNet model\n",
    "print(\"\\nPlotting ROC-AUC Curve for ResNet Model\")\n",
    "resnet_model_best = models.resnet18(pretrained=False)\n",
    "resnet_model_best.conv1 = nn.Conv2d(1, 64, kernel_size=7, stride=2, padding=3, bias=False)\n",
    "resnet_model_best.fc = nn.Linear(resnet_model_best.fc.in_features, 10)\n",
    "trained_resnet_best = train_model(resnet_model_best, train_loader, num_epochs=10, learning_rate=0.01)\n",
    "plot_roc_auc(trained_resnet_best, test_loader)"
   ]
  },
  {
   "cell_type": "markdown",
   "id": "b3515782-d642-40fd-a83f-ad46e5a074b9",
   "metadata": {},
   "source": [
    "<strong>The ROC curve above shows a perfect AUC score of 1.0, which means that the model perfectly distinguishes between the classes without any overlap—resulting in a curve that hugs the top-left corner.</strong>"
   ]
  },
  {
   "cell_type": "code",
   "execution_count": 50,
   "id": "5df6f100-3e13-4375-a4fa-d133bfe5bb26",
   "metadata": {},
   "outputs": [
    {
     "name": "stdout",
     "output_type": "stream",
     "text": [
      "Epoch [1/10], Loss: 0.013989010147723942\n",
      "Epoch [2/10], Loss: 0.014462776079197163\n",
      "Epoch [3/10], Loss: 0.013930173611591025\n",
      "Epoch [4/10], Loss: 0.014324785751708063\n",
      "Epoch [5/10], Loss: 0.013895569986288077\n",
      "Epoch [6/10], Loss: 0.013767941621900624\n",
      "Epoch [7/10], Loss: 0.01375188336678858\n",
      "Epoch [8/10], Loss: 0.014104322973386953\n",
      "Epoch [9/10], Loss: 0.014346165638480301\n",
      "Epoch [10/10], Loss: 0.014049015408602736\n"
     ]
    }
   ],
   "source": [
    "# Train the model\n",
    "num_epochs = 10\n",
    "for epoch in range(num_epochs):\n",
    "    model.train()\n",
    "    running_loss = 0.0\n",
    "    for i, (images, labels) in enumerate(train_loader):\n",
    "        images, labels = images.to(device), labels.to(device)\n",
    "        \n",
    "        # Forward pass\n",
    "        outputs = model(images)\n",
    "        loss = criterion(outputs, labels)\n",
    "        \n",
    "        # Backward pass and optimization\n",
    "        optimizer.zero_grad()\n",
    "        loss.backward()\n",
    "        optimizer.step()\n",
    "        \n",
    "        running_loss += loss.item()\n",
    "    print(f'Epoch [{epoch+1}/{num_epochs}], Loss: {running_loss/len(train_loader)}')"
   ]
  },
  {
   "cell_type": "code",
   "execution_count": 60,
   "id": "93f01602-fb06-41fd-b1fa-3835c78222c2",
   "metadata": {},
   "outputs": [],
   "source": [
    "# Save the trained model\n",
    "torch.save(model.state_dict(), 'best_model.pth')"
   ]
  },
  {
   "cell_type": "code",
   "execution_count": 63,
   "id": "bee83c5e-f441-4048-82ef-42fe45186f35",
   "metadata": {},
   "outputs": [],
   "source": [
    "# Define the function to load the model and evaluate it\n",
    "def test_model(test_loader):\n",
    "    # Initialize the ResNet model again to match the saved weights\n",
    "    model = models.resnet18(pretrained=False)\n",
    "    model.conv1 = nn.Conv2d(1, 64, kernel_size=7, stride=2, padding=3, bias=False)\n",
    "    model.fc = nn.Linear(model.fc.in_features, 10)\n",
    "\n",
    "    # Move the model to the GPU\n",
    "    model = model.to(device)\n",
    "\n",
    "    # Load the saved model weights\n",
    "    model.load_state_dict(torch.load('best_model.pth'))\n",
    "    model.eval()\n",
    "\n",
    "    y_true = []\n",
    "    y_pred = []\n",
    "\n",
    "    # Test the model on the test dataset\n",
    "    with torch.no_grad():\n",
    "        for images, labels in test_loader:\n",
    "            images, labels = images.to(device), labels.to(device)  # Ensure both images and labels are on the GPU\n",
    "            outputs = model(images)\n",
    "            _, predicted = torch.max(outputs, 1)\n",
    "            y_true.extend(labels.cpu().numpy())\n",
    "            y_pred.extend(predicted.cpu().numpy())\n",
    "\n",
    "    # Calculate evaluation metrics\n",
    "    f1 = f1_score(y_true, y_pred, average='weighted')\n",
    "    accuracy = accuracy_score(y_true, y_pred)\n",
    "    print(f'Accuracy: {accuracy * 100:.2f}%')\n",
    "    print(f'F1 Score: {f1:.2f}')\n",
    "\n",
    "    return y_pred"
   ]
  },
  {
   "cell_type": "code",
   "execution_count": 64,
   "id": "a066f7bf-c735-488f-86eb-25b5e3f366ae",
   "metadata": {},
   "outputs": [
    {
     "name": "stderr",
     "output_type": "stream",
     "text": [
      "C:\\Users\\ARVISH\\AppData\\Local\\Temp\\ipykernel_34568\\467287815.py:12: FutureWarning: You are using `torch.load` with `weights_only=False` (the current default value), which uses the default pickle module implicitly. It is possible to construct malicious pickle data which will execute arbitrary code during unpickling (See https://github.com/pytorch/pytorch/blob/main/SECURITY.md#untrusted-models for more details). In a future release, the default value for `weights_only` will be flipped to `True`. This limits the functions that could be executed during unpickling. Arbitrary objects will no longer be allowed to be loaded via this mode unless they are explicitly allowlisted by the user via `torch.serialization.add_safe_globals`. We recommend you start setting `weights_only=True` for any use case where you don't have full control of the loaded file. Please open an issue on GitHub for any issues related to this experimental feature.\n",
      "  model.load_state_dict(torch.load('best_model.pth'))\n"
     ]
    },
    {
     "name": "stdout",
     "output_type": "stream",
     "text": [
      "Accuracy: 99.22%\n",
      "F1 Score: 0.99\n"
     ]
    }
   ],
   "source": [
    "# Run the test_model function to evaluate the trained model\n",
    "predictions = test_model(test_loader)"
   ]
  },
  {
   "cell_type": "code",
   "execution_count": null,
   "id": "a53080c6-d617-4d8b-add1-fba64fd46eee",
   "metadata": {},
   "outputs": [],
   "source": []
  }
 ],
 "metadata": {
  "kernelspec": {
   "display_name": "Python 3 (ipykernel)",
   "language": "python",
   "name": "python3"
  },
  "language_info": {
   "codemirror_mode": {
    "name": "ipython",
    "version": 3
   },
   "file_extension": ".py",
   "mimetype": "text/x-python",
   "name": "python",
   "nbconvert_exporter": "python",
   "pygments_lexer": "ipython3",
   "version": "3.12.6"
  }
 },
 "nbformat": 4,
 "nbformat_minor": 5
}
